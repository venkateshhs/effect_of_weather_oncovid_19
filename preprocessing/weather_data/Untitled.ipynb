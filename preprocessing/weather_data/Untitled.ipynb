{
 "cells": [
  {
   "cell_type": "code",
   "execution_count": 1,
   "id": "7d2f04b1",
   "metadata": {},
   "outputs": [
    {
     "name": "stdout",
     "output_type": "stream",
     "text": [
      "Collecting pyccNote: you may need to restart the kernel to use updated packages.\n",
      "  Downloading pycc-2.0.0.tar.gz (20 kB)\n",
      "Building wheels for collected packages: pycc\n",
      "  Building wheel for pycc (setup.py): started\n",
      "  Building wheel for pycc (setup.py): finished with status 'done'\n",
      "  Created wheel for pycc: filename=pycc-2.0.0-py3-none-any.whl size=25866 sha256=49015c61da8df6d61c9c5654807828a23ede546416ecd5dd5833479472922e9f\n",
      "  Stored in directory: c:\\users\\lenovo\\appdata\\local\\pip\\cache\\wheels\\fa\\a6\\db\\f72ed6116fed26df108df3478b65a281f545bb0885ff710a78\n",
      "Successfully built pycc\n",
      "Installing collected packages: pycc\n",
      "Successfully installed pycc-2.0.0\n",
      "\n"
     ]
    }
   ],
   "source": [
    "pip install pycc"
   ]
  },
  {
   "cell_type": "code",
   "execution_count": 7,
   "id": "a978fefc",
   "metadata": {},
   "outputs": [
    {
     "ename": "SyntaxError",
     "evalue": "invalid character '–' (U+2013) (Temp/ipykernel_12448/3549187017.py, line 1)",
     "output_type": "error",
     "traceback": [
      "\u001b[1;36m  File \u001b[1;32m\"C:\\Users\\Lenovo\\AppData\\Local\\Temp/ipykernel_12448/3549187017.py\"\u001b[1;36m, line \u001b[1;32m1\u001b[0m\n\u001b[1;33m    pycc-transform –source=filling_missingdata.py --constants\u001b[0m\n\u001b[1;37m                   ^\u001b[0m\n\u001b[1;31mSyntaxError\u001b[0m\u001b[1;31m:\u001b[0m invalid character '–' (U+2013)\n"
     ]
    }
   ],
   "source": [
    "pycc-transform –source=filling_missingdata.py --constants"
   ]
  },
  {
   "cell_type": "code",
   "execution_count": null,
   "id": "33f05913",
   "metadata": {},
   "outputs": [],
   "source": []
  }
 ],
 "metadata": {
  "kernelspec": {
   "display_name": "Python 3 (ipykernel)",
   "language": "python",
   "name": "python3"
  },
  "language_info": {
   "codemirror_mode": {
    "name": "ipython",
    "version": 3
   },
   "file_extension": ".py",
   "mimetype": "text/x-python",
   "name": "python",
   "nbconvert_exporter": "python",
   "pygments_lexer": "ipython3",
   "version": "3.9.7"
  }
 },
 "nbformat": 4,
 "nbformat_minor": 5
}
